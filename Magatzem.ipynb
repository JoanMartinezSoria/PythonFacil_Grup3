{
 "nbformat": 4,
 "nbformat_minor": 0,
 "metadata": {
  "colab": {
   "provenance": []
  },
  "kernelspec": {
   "name": "python3",
   "display_name": "Python 3"
  },
  "language_info": {
   "name": "python"
  }
 },
 "cells": [
  {
   "cell_type": "markdown",
   "source": [
    "# Funcionaminto del Almacen"
   ],
   "metadata": {
    "id": "rVSxMu6xaaIJ"
   }
  },
  {
   "cell_type": "markdown",
   "source": [
    "## Variables Globales"
   ],
   "metadata": {
    "id": "Vd-8jl-ka9dU"
   }
  },
  {
   "cell_type": "code",
   "source": [
    "MAX_UNITATS = 32 # @param {type:\"number\"}\n",
    "ERR_PRODUCTE_DIFERENT = -1 # @param {type:\"number\"}\n",
    "ERR_NO_SUFICIENTS_UNITATS = -2 # @param {type:\"number\"}\n",
    "ERR_CATEGORIA_DIFERENT = -3 # @param {type:\"number\"}"
   ],
   "metadata": {
    "id": "ptiFwgFEanu-"
   },
   "execution_count": 182,
   "outputs": []
  },
  {
   "cell_type": "markdown",
   "source": "## Classe safata",
   "metadata": {
    "id": "_9fHK7hMbCWz"
   }
  },
  {
   "cell_type": "code",
   "source": [
    "class Safata:\n",
    "  def __init__(self, id, producte, unitats):\n",
    "    self.id = id\n",
    "    self.producte = producte\n",
    "    self.unitats = unitats\n",
    "\n",
    "  def __str__(self):\n",
    "    return f\"La safata {self.id} conté {self.unitats} unitats del producte {self.producte}\"\n",
    "\n",
    "  def afegir_productes_safata(self, porducte, unitats):\n",
    "    if self.producte != porducte and self.producte != None:\n",
    "      return ERR_PRODUCTE_DIFERENT\n",
    "    elif self.producte is None:\n",
    "      self.producte = porducte\n",
    "    if self.unitats + unitats > MAX_UNITATS:\n",
    "      aux = self.unitats\n",
    "      self.unitats = MAX_UNITATS\n",
    "      return abs((unitats + aux) - MAX_UNITATS)\n",
    "    else:\n",
    "      self.unitats += unitats\n",
    "      return 0\n",
    "\n",
    "  def treure_productes_safata(self, producte, unitats):\n",
    "    if self.producte != producte:\n",
    "      return ERR_PRODUCTE_DIFERENT\n",
    "    elif self.unitats < unitats:\n",
    "      resta = unitats - self.unitats\n",
    "      self.unitats = 0\n",
    "      self.producte = None\n",
    "      return resta\n",
    "    else:\n",
    "      self.unitats -= unitats\n",
    "      if self.unitats == 0:\n",
    "        self.producte = None\n",
    "      return 0"
   ],
   "metadata": {
    "id": "2P8ZjgTuaZR5"
   },
   "execution_count": 183,
   "outputs": []
  },
  {
   "cell_type": "markdown",
   "source": "### Provas de la classe safata",
   "metadata": {
    "id": "ZW9AiocEbMOT"
   }
  },
  {
   "cell_type": "markdown",
   "source": [
    "Inicialitzem una sola safata"
   ],
   "metadata": {
    "id": "kaaV7E03cWQO"
   }
  },
  {
   "cell_type": "code",
   "source": [
    "safata1 = Safata(0, \"Coca-cola\", 0)\n",
    "print(safata1)"
   ],
   "metadata": {
    "colab": {
     "base_uri": "https://localhost:8080/"
    },
    "id": "1aOaBcxrbRN3",
    "outputId": "2af6e090-a7dd-4f27-fffa-1641da2b58ac"
   },
   "execution_count": 184,
   "outputs": [
    {
     "output_type": "stream",
     "name": "stdout",
     "text": [
      "La safata 0 conté 0 unitats del producte Coca-cola\n"
     ]
    }
   ]
  },
  {
   "cell_type": "markdown",
   "source": [
    "Afegim un producte a una safata"
   ],
   "metadata": {
    "id": "VLV2WQjbcxkb"
   }
  },
  {
   "cell_type": "code",
   "source": [
    "aux = safata1.afegir_productes_safata(\"Coca-cola\", 10)\n",
    "\n",
    "print(safata1)"
   ],
   "metadata": {
    "colab": {
     "base_uri": "https://localhost:8080/"
    },
    "id": "262Z5YagbUHS",
    "outputId": "63b5d2ed-0562-4709-99ac-1bb6dc0c7adf"
   },
   "execution_count": 185,
   "outputs": [
    {
     "output_type": "stream",
     "name": "stdout",
     "text": [
      "La safata 0 conté 10 unitats del producte Coca-cola\n"
     ]
    }
   ]
  },
  {
   "cell_type": "code",
   "source": [
    "aux = safata1.afegir_productes_safata(\"Coca-cola\", 40)\n",
    "print(f\"resta: {aux}\")\n",
    "print(safata1)"
   ],
   "metadata": {
    "colab": {
     "base_uri": "https://localhost:8080/"
    },
    "id": "qnFwNiU3bZx2",
    "outputId": "61e39691-eec7-4dd8-f76c-973f9d7a555c"
   },
   "execution_count": 186,
   "outputs": [
    {
     "output_type": "stream",
     "name": "stdout",
     "text": [
      "resta: 18\n",
      "La safata 0 conté 32 unitats del producte Coca-cola\n"
     ]
    }
   ]
  },
  {
   "cell_type": "markdown",
   "source": [
    "Prova d'afegir un altre producte a una safata"
   ],
   "metadata": {
    "id": "3QXwmNWAc1kD"
   }
  },
  {
   "cell_type": "code",
   "source": [
    "aux = safata1.afegir_productes_safata(\"Fanta\", 20)\n",
    "print(aux)"
   ],
   "metadata": {
    "colab": {
     "base_uri": "https://localhost:8080/"
    },
    "id": "mglkYo_MbdtW",
    "outputId": "e064432c-9529-4d7a-a7d1-6ab4e9b3e1be"
   },
   "execution_count": 187,
   "outputs": [
    {
     "output_type": "stream",
     "name": "stdout",
     "text": [
      "-1\n"
     ]
    }
   ]
  },
  {
   "cell_type": "markdown",
   "source": [
    "Treure productes d'una safata"
   ],
   "metadata": {
    "id": "b_Ft9FFoc9X3"
   }
  },
  {
   "cell_type": "code",
   "source": [
    "aux = safata1.treure_productes_safata(\"Coca-cola\", 10)\n",
    "print(f\"Faltan per treure a {aux} unitats\")\n",
    "print(safata1)"
   ],
   "metadata": {
    "colab": {
     "base_uri": "https://localhost:8080/"
    },
    "id": "3jEFciOkby5m",
    "outputId": "b8759cf0-3fa5-46c5-cac0-aa37d698708e"
   },
   "execution_count": 188,
   "outputs": [
    {
     "output_type": "stream",
     "name": "stdout",
     "text": [
      "Faltan per treure a 0 unitats\n",
      "La safata 0 conté 22 unitats del producte Coca-cola\n"
     ]
    }
   ]
  },
  {
   "cell_type": "markdown",
   "source": [
    "Treure masa productes d'una safata"
   ],
   "metadata": {
    "id": "qcluFYfEdBGt"
   }
  },
  {
   "cell_type": "code",
   "source": [
    "aux = safata1.treure_productes_safata(\"Coca-cola\", 30)\n",
    "print(f\"Faltan per treure a {aux} unitats\")\n",
    "print(safata1)"
   ],
   "metadata": {
    "colab": {
     "base_uri": "https://localhost:8080/"
    },
    "id": "TosIWpfVb3LB",
    "outputId": "f8ced261-e4fd-46bf-8afc-76f6ff021fbe"
   },
   "execution_count": 189,
   "outputs": [
    {
     "output_type": "stream",
     "name": "stdout",
     "text": [
      "Faltan per treure a 8 unitats\n",
      "La safata 0 conté 0 unitats del producte None\n"
     ]
    }
   ]
  },
  {
   "cell_type": "markdown",
   "source": [
    "## Clase prestatge"
   ],
   "metadata": {
    "id": "MEz8sR7Jb9Xc"
   }
  },
  {
   "cell_type": "code",
   "source": [
    "class Prestatge:\n",
    "  def __init__(self, id, safates, categoria):\n",
    "    self.id = id\n",
    "    self.safates = safates\n",
    "    self.categoria = categoria\n",
    "\n",
    "  def __str__(self):\n",
    "    return f\"La prestatgeria {self.id} conté productes de {self.categoria} i té {len(safates)} safates\"\n",
    "\n",
    "  def afegir_producte_prestatgeries(self, categoria, producte, unitats):\n",
    "    if self.categoria is not categoria:\n",
    "      return ERR_CATEGORIA_DIFERENT\n",
    "    else:\n",
    "      for safata in self.safates:\n",
    "        aux = safata.afegir_productes_safata(producte, unitats)\n",
    "        if aux != ERR_PRODUCTE_DIFERENT:\n",
    "          unitats = aux\n",
    "        if unitats == 0:\n",
    "          break\n",
    "\n",
    "  def retirar_productes_prestatgeria(self, categoria, producte, unitats):\n",
    "    if self.categoria is not categoria:\n",
    "      return ERR_CATEGORIA_DIFERENT\n",
    "    else:\n",
    "      for safata in reversed(self.safates):\n",
    "        aux = safata.treure_productes_safata(producte, unitats)\n",
    "        if aux != ERR_PRODUCTE_DIFERENT:\n",
    "          unitats = aux\n",
    "        if unitats == 0:\n",
    "          break\n",
    "      return unitats"
   ],
   "metadata": {
    "id": "QOmKtY9V2K_6"
   },
   "execution_count": 190,
   "outputs": []
  },
  {
   "cell_type": "markdown",
   "source": [
    "Inicializar las safatas que iran en una prestatgeria"
   ],
   "metadata": {
    "id": "m680YH0LcGyA"
   }
  },
  {
   "cell_type": "markdown",
   "source": [
    "Inicialitzacio del numero de safates que contindra un prestatge"
   ],
   "metadata": {
    "id": "082EnH6AdG1s"
   }
  },
  {
   "cell_type": "code",
   "source": [
    "num_safates = 4 # @param {type:\"number\"}\n",
    "safates = [Safata(i, None, 0) for i in range(num_safates)]\n",
    "for safata in safates:\n",
    "  print(safata)"
   ],
   "metadata": {
    "id": "2XSCzR1caCKh",
    "colab": {
     "base_uri": "https://localhost:8080/"
    },
    "outputId": "b29d64c2-0ec1-4bca-d04b-313427a30e2b"
   },
   "execution_count": 191,
   "outputs": [
    {
     "output_type": "stream",
     "name": "stdout",
     "text": [
      "La safata 0 conté 0 unitats del producte None\n",
      "La safata 1 conté 0 unitats del producte None\n",
      "La safata 2 conté 0 unitats del producte None\n",
      "La safata 3 conté 0 unitats del producte None\n"
     ]
    }
   ]
  },
  {
   "cell_type": "markdown",
   "source": [
    "Inicialitzem les prestatgeries"
   ],
   "metadata": {
    "id": "LRYxxOsOdPpX"
   }
  },
  {
   "cell_type": "code",
   "source": [
    "prestatge1 = Prestatge(0, safates, \"Begudes\")\n",
    "print(prestatge1)\n",
    "safates = prestatge1.safates\n",
    "for safata in safates:\n",
    "  print(safata)"
   ],
   "metadata": {
    "colab": {
     "base_uri": "https://localhost:8080/"
    },
    "id": "Dl5yoxkKcN3s",
    "outputId": "1bb43bfb-d43a-497b-ca38-d6fe4c45c5d8"
   },
   "execution_count": 192,
   "outputs": [
    {
     "output_type": "stream",
     "name": "stdout",
     "text": [
      "La prestatgeria 0 conté productes de Begudes i té 4 safates\n",
      "La safata 0 conté 0 unitats del producte None\n",
      "La safata 1 conté 0 unitats del producte None\n",
      "La safata 2 conté 0 unitats del producte None\n",
      "La safata 3 conté 0 unitats del producte None\n"
     ]
    }
   ]
  },
  {
   "cell_type": "markdown",
   "source": [
    "Afegim un producte a una de les prestatgeries"
   ],
   "metadata": {
    "id": "9QOxI5eBdZb1"
   }
  },
  {
   "cell_type": "code",
   "source": [
    "aux = prestatge1.afegir_producte_prestatgeries(\"Begudes\", \"Coca-cola\", 10)\n",
    "print(aux)\n",
    "print(prestatge1)\n",
    "safates = prestatge1.safates\n",
    "for safata in safates:\n",
    "  print(safata)"
   ],
   "metadata": {
    "colab": {
     "base_uri": "https://localhost:8080/"
    },
    "id": "f3qLq3REcPyk",
    "outputId": "32b71769-2493-400a-8f87-e1e8e331884d"
   },
   "execution_count": 193,
   "outputs": [
    {
     "output_type": "stream",
     "name": "stdout",
     "text": [
      "None\n",
      "La prestatgeria 0 conté productes de Begudes i té 4 safates\n",
      "La safata 0 conté 10 unitats del producte Coca-cola\n",
      "La safata 1 conté 0 unitats del producte None\n",
      "La safata 2 conté 0 unitats del producte None\n",
      "La safata 3 conté 0 unitats del producte None\n"
     ]
    }
   ]
  },
  {
   "cell_type": "markdown",
   "source": [
    "Afegim mes productes dels que caben en una de les prestatgeries"
   ],
   "metadata": {
    "id": "-OAcIqp5ddPZ"
   }
  },
  {
   "cell_type": "code",
   "source": [
    "aux = prestatge1.afegir_producte_prestatgeries(\"Begudes\", \"Coca-cola\", 40)\n",
    "print(aux)\n",
    "print(prestatge1)\n",
    "safates = prestatge1.safates\n",
    "for safata in safates:\n",
    "  print(safata)"
   ],
   "metadata": {
    "colab": {
     "base_uri": "https://localhost:8080/"
    },
    "id": "xgdd17k2cRjB",
    "outputId": "c0e54853-3f2c-49b7-8bda-337cc55f2fb6"
   },
   "execution_count": 194,
   "outputs": [
    {
     "output_type": "stream",
     "name": "stdout",
     "text": [
      "None\n",
      "La prestatgeria 0 conté productes de Begudes i té 4 safates\n",
      "La safata 0 conté 32 unitats del producte Coca-cola\n",
      "La safata 1 conté 18 unitats del producte Coca-cola\n",
      "La safata 2 conté 0 unitats del producte None\n",
      "La safata 3 conté 0 unitats del producte None\n"
     ]
    }
   ]
  },
  {
   "cell_type": "markdown",
   "source": [
    "Afegir un producte d'una categoria que no toca en un prestatge"
   ],
   "metadata": {
    "id": "HHYynEG2dtKS"
   }
  },
  {
   "cell_type": "code",
   "source": [
    "aux = prestatge1.afegir_producte_prestatgeries(\"Beg\", \"Coca-cola\", 40)\n",
    "print(aux)\n",
    "print(prestatge1)\n",
    "safates = prestatge1.safates\n",
    "for safata in safates:\n",
    "  print(safata)"
   ],
   "metadata": {
    "colab": {
     "base_uri": "https://localhost:8080/"
    },
    "id": "0mFvyaGFcTSq",
    "outputId": "936009f6-1d6d-4b4f-f591-57fe3911bed8"
   },
   "execution_count": 195,
   "outputs": [
    {
     "output_type": "stream",
     "name": "stdout",
     "text": [
      "-3\n",
      "La prestatgeria 0 conté productes de Begudes i té 4 safates\n",
      "La safata 0 conté 32 unitats del producte Coca-cola\n",
      "La safata 1 conté 18 unitats del producte Coca-cola\n",
      "La safata 2 conté 0 unitats del producte None\n",
      "La safata 3 conté 0 unitats del producte None\n"
     ]
    }
   ]
  },
  {
   "cell_type": "markdown",
   "source": [
    "Afegir productes diferents pero de la mateixa categoria"
   ],
   "metadata": {
    "id": "hrZdXe4Jd0rw"
   }
  },
  {
   "cell_type": "code",
   "source": [
    "aux = prestatge1.afegir_producte_prestatgeries(\"Begudes\", \"Fanta\", 40)\n",
    "print(aux)\n",
    "print(prestatge1)\n",
    "safates = prestatge1.safates\n",
    "for safata in safates:\n",
    "  print(safata)"
   ],
   "metadata": {
    "colab": {
     "base_uri": "https://localhost:8080/"
    },
    "id": "C5cM1CL2B42s",
    "outputId": "345d1924-2ea5-46a2-ef43-a52025349d59"
   },
   "execution_count": 196,
   "outputs": [
    {
     "output_type": "stream",
     "name": "stdout",
     "text": [
      "None\n",
      "La prestatgeria 0 conté productes de Begudes i té 4 safates\n",
      "La safata 0 conté 32 unitats del producte Coca-cola\n",
      "La safata 1 conté 18 unitats del producte Coca-cola\n",
      "La safata 2 conté 32 unitats del producte Fanta\n",
      "La safata 3 conté 8 unitats del producte Fanta\n"
     ]
    }
   ]
  },
  {
   "cell_type": "markdown",
   "source": [
    "Retirem un producte d'una prestatgeria"
   ],
   "metadata": {
    "id": "xRQVCacsjsO8"
   }
  },
  {
   "cell_type": "code",
   "source": [
    "aux = prestatge1.retirar_productes_prestatgeria(\"Begudes\", \"Coca-cola\", 10)\n",
    "print(aux)\n",
    "print(prestatge1)\n",
    "safates = prestatge1.safates\n",
    "for safata in safates:\n",
    "  print(safata)"
   ],
   "metadata": {
    "colab": {
     "base_uri": "https://localhost:8080/"
    },
    "id": "sEsjiHJViZiQ",
    "outputId": "f728b278-89ba-43fa-f28e-a05a6e4f5bd8"
   },
   "execution_count": 197,
   "outputs": [
    {
     "output_type": "stream",
     "name": "stdout",
     "text": [
      "0\n",
      "La prestatgeria 0 conté productes de Begudes i té 4 safates\n",
      "La safata 0 conté 32 unitats del producte Coca-cola\n",
      "La safata 1 conté 8 unitats del producte Coca-cola\n",
      "La safata 2 conté 32 unitats del producte Fanta\n",
      "La safata 3 conté 8 unitats del producte Fanta\n"
     ]
    }
   ]
  },
  {
   "cell_type": "markdown",
   "source": [
    "Retirem mes productes d'una prestatgeria"
   ],
   "metadata": {
    "id": "BW5YPcI7jw5K"
   }
  },
  {
   "cell_type": "code",
   "source": [
    "aux = prestatge1.retirar_productes_prestatgeria(\"Begudes\", \"Coca-cola\", 10)\n",
    "print(aux)\n",
    "print(prestatge1)\n",
    "safates = prestatge1.safates\n",
    "for safata in safates:\n",
    "  print(safata)"
   ],
   "metadata": {
    "colab": {
     "base_uri": "https://localhost:8080/"
    },
    "id": "npX9nafSjzp9",
    "outputId": "196689af-d2cd-4967-f7e8-46f729f38b58"
   },
   "execution_count": 198,
   "outputs": [
    {
     "output_type": "stream",
     "name": "stdout",
     "text": [
      "0\n",
      "La prestatgeria 0 conté productes de Begudes i té 4 safates\n",
      "La safata 0 conté 30 unitats del producte Coca-cola\n",
      "La safata 1 conté 0 unitats del producte None\n",
      "La safata 2 conté 32 unitats del producte Fanta\n",
      "La safata 3 conté 8 unitats del producte Fanta\n"
     ]
    }
   ]
  },
  {
   "cell_type": "markdown",
   "source": [
    "Retirar encara mes productes d'una prestatgeria"
   ],
   "metadata": {
    "id": "AroR7v0mj5tq"
   }
  },
  {
   "cell_type": "code",
   "source": [
    "aux = prestatge1.retirar_productes_prestatgeria(\"Begudes\", \"Coca-cola\", 40)\n",
    "print(f\"Falten {aux} unitats per recollir\")\n",
    "print(prestatge1)\n",
    "safates = prestatge1.safates\n",
    "for safata in safates:\n",
    "  print(safata)"
   ],
   "metadata": {
    "colab": {
     "base_uri": "https://localhost:8080/"
    },
    "id": "91RD9Y4Ej3VT",
    "outputId": "5885721d-ba75-4278-c4e7-48140ca90665"
   },
   "execution_count": 199,
   "outputs": [
    {
     "output_type": "stream",
     "name": "stdout",
     "text": [
      "Falten 10 unitats per recollir\n",
      "La prestatgeria 0 conté productes de Begudes i té 4 safates\n",
      "La safata 0 conté 0 unitats del producte None\n",
      "La safata 1 conté 0 unitats del producte None\n",
      "La safata 2 conté 32 unitats del producte Fanta\n",
      "La safata 3 conté 8 unitats del producte Fanta\n"
     ]
    }
   ]
  }
 ]
}
