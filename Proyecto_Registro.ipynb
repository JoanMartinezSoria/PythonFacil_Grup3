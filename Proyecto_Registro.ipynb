{
  "cells": [
    {
      "cell_type": "code",
      "execution_count": 1,
      "metadata": {
        "colab": {
          "base_uri": "https://localhost:8080/"
        },
        "id": "H6ZjR3wZoRt1",
        "outputId": "5274d8d6-a9ab-49f6-8876-eaabd3517632"
      },
      "outputs": [
        {
          "name": "stdout",
          "output_type": "stream",
          "text": [
            "{'Hombres': 4, 'Mujeres': 2}\n",
            "{'Aptos para socios': ['Antonio', 'Ana']}\n",
            "{'Emails para carga de trabajo': ['pol@ejemplo.com', 'marta@ejemplo.com', 'juan@ejemplo.com', 'faustino@ejemplo.com']}\n"
          ]
        }
      ],
      "source": [
        "Usuarios = [\n",
        "                {\n",
        "                  \"nombre\":\"Antonio\",\n",
        "                  \"Edad\": 55,\n",
        "                  \"Sexo\": \"M\",\n",
        "                  \"mail\": [\"antonio@ejemplo.com\"]\n",
        "                },\n",
        "                {\n",
        "                  \"nombre\":\"Pol\",\n",
        "                  \"Edad\": 18,\n",
        "                  \"Sexo\": \"M\",\n",
        "                  \"mail\": [\"pol@ejemplo.com\"]\n",
        "                },\n",
        "                {\n",
        "                    \"nombre\":\"Marta\",\n",
        "                    \"Edad\": 32,\n",
        "                    \"Sexo\": \"F\",\n",
        "                    \"mail\": [\"marta@ejemplo.com\"]\n",
        "                },\n",
        "                {\n",
        "                    \"nombre\":\"Juan\",\n",
        "                    \"Edad\": 25,\n",
        "                    \"Sexo\": \"M\",\n",
        "                    \"mail\": [\"juan@ejemplo.com\"]\n",
        "                },\n",
        "                {\n",
        "                    \"nombre\":\"Ana\",\n",
        "                    \"Edad\": 65,\n",
        "                    \"Sexo\": \"F\",\n",
        "                    \"mail\": [\"ana@ejemplo.com\"]\n",
        "                },\n",
        "                {\n",
        "                    \"nombre\":\"Faustino\",\n",
        "                    \"carga\": 85,\n",
        "                    \"Sexo\": \"F\",\n",
        "                    \"mail\": [\"faustino@ejemplo.com\"]\n",
        "                }\n",
        "                ]\n",
        "\n",
        "def contar_generos(lista_usuarios): #Cuenta numero de hombres y de mujeres\n",
        "  hombres = sum(1 for u in lista_usuarios if u[\"Genero\"] == \"M\")\n",
        "  mujeres = sum(1 for u in lista_usuarios if u[\"Genero\"] == \"F\")\n",
        "  return {\"Hombres\": hombres, \"Mujeres\": mujeres}\n",
        "\n",
        "\n",
        "def usuarios_aptos_para_socios(lista_usuarios): #Devuelve los usuarios aptos para convertirse en socios\n",
        "  aptos = [u[\"nombre\"] for u in lista_usuarios if u.get(\"Edad\",0)>50]\n",
        "  return {\"Aptos para socios\": aptos}\n",
        "\n",
        "def mails_menores_35(lista_usuarios): #Devuelve los mails de los usuarios a los que se les asigna una carga de trabajo\n",
        "  mails = [u[\"mail\"][0] for u in lista_usuarios if u.get(\"Edad\",0)<35]\n",
        "  return {\"Emails para carga de trabajo\": mails}\n",
        "\n",
        "\n",
        "print(contar_generos(Usuarios))\n",
        "print(usuarios_aptos_para_socios(Usuarios))\n",
        "print(mails_menores_35(Usuarios))\n"
      ]
    },
    {
      "cell_type": "code",
      "execution_count": 2,
      "metadata": {
        "colab": {
          "base_uri": "https://localhost:8080/"
        },
        "id": "NMMP16oB-qM6",
        "outputId": "ac2d9bb4-bfd0-4faf-83db-5e1eae093ab3"
      },
      "outputs": [
        {
          "name": "stdout",
          "output_type": "stream",
          "text": [
            "{'Electronica': 3, 'muebles': 2}\n",
            "{'Reposicion necesaria': ['Teclado', 'Mesa']}\n",
            "{'Proveedores Electronicos': [['antonio@ejemplo.com'], ['empresa2@ejemplo.com'], ['empresa4@ejemplo.com']]}\n"
          ]
        }
      ],
      "source": [
        "Productos = [\n",
        "                {\n",
        "                  \"nombre\":\"ordendor\",\n",
        "                  \"categoria\": \"Electronica\",\n",
        "                  \"stock\": 20,\n",
        "                  \"proveedor\": [\"antonio@ejemplo.com\"]\n",
        "                },\n",
        "                {\n",
        "                  \"nombre\":\"silla\",\n",
        "                  \"categoria\": \"muebles\",\n",
        "                  \"stock\": 40,\n",
        "                  \"proveedor\": [\"empresa1@ejemplo.com\"]\n",
        "                },\n",
        "                {\n",
        "                  \"nombre\":\"Teclado\",\n",
        "                  \"categoria\": \"Electronica\",\n",
        "                  \"stock\": 8,\n",
        "                  \"proveedor\": [\"empresa2@ejemplo.com\"]\n",
        "                },\n",
        "                {\n",
        "                  \"nombre\":\"Mesa\",\n",
        "                  \"categoria\": \"muebles\",\n",
        "                  \"stock\": 10,\n",
        "                  \"proveedor\": [\"empresa3@ejemplo.com\"]\n",
        "                },\n",
        "                {\n",
        "                  \"nombre\":\"camara\",\n",
        "                  \"categoria\": \"Electronica\",\n",
        "                  \"stock\": 50,\n",
        "                  \"proveedor\": [\"empresa4@ejemplo.com\"]\n",
        "                }\n",
        "                ]\n",
        "\n",
        "def contar_categorias(lista_productos): #cuenta el total que hay en cada categoria\n",
        "  categorias = {}\n",
        "  for p in lista_productos:\n",
        "    cat = p.get(\"categoria\", \"otros\")\n",
        "    categorias[cat] = categorias.get(cat, 0) + 1\n",
        "  return categorias\n",
        "\n",
        "def productos_para_reposicion(lista_productos): #Mira cuales son los productos que necessitan reposicion\n",
        "  return {\"Reposicion necesaria\":[p[\"nombre\"] for p in lista_productos if p.get(\"stock\",0) < 20]}\n",
        "\n",
        "def mails_proveedores_electronicos(lista_productos): #Devuelve los mails de los proveedores de la categoria electronica\n",
        "  return{\"Proveedores Electronicos\":[p[\"proveedor\"] for p in lista_productos if p.get(\"categoria\") == \"Electronica\"]}\n",
        "\n",
        "print(contar_categorias(Productos))\n",
        "print(productos_para_reposicion(Productos))\n",
        "print(mails_proveedores_electronicos(Productos))\n"
      ]
    },
    {
      "cell_type": "code",
      "execution_count": 3,
      "metadata": {
        "colab": {
          "base_uri": "https://localhost:8080/"
        },
        "id": "24-GPh91DbVr",
        "outputId": "6437fa4a-fc0b-4e7b-c92a-232d545c936f"
      },
      "outputs": [
        {
          "name": "stdout",
          "output_type": "stream",
          "text": [
            "{'Promedio km recorridos': 148000.0}\n",
            "{'Vehiculos para recarga': ['Ford Ranger', 'Nissan Versa']}\n",
            "{'Reemplazo necessario': ['Honda Civic']}\n"
          ]
        }
      ],
      "source": [
        "vehiculos = [\n",
        "                {\n",
        "                  \"modelo\":\"Toyota Corolla\",\n",
        "                  \"año\": \"2018\",\n",
        "                  \"km_recorrido\": 150000,\n",
        "                  \"combustible\": 40\n",
        "                },\n",
        "                {\n",
        "                  \"modelo\":\"Ford Ranger\",\n",
        "                  \"año\": \"2020\",\n",
        "                  \"km_recorrido\": 120000,\n",
        "                  \"combustible\": 25\n",
        "                },\n",
        "                {\n",
        "                  \"modelo\":\"Chevrolet Onix\",\n",
        "                  \"año\": \"2019\",\n",
        "                  \"km_recorrido\": 180000,\n",
        "                  \"combustible\": 60\n",
        "                },\n",
        "                {\n",
        "                  \"modelo\":\"Nissan Versa\",\n",
        "                  \"año\": \"2021\",\n",
        "                  \"km_recorrido\": 70000,\n",
        "                  \"combustible\": 20\n",
        "                },\n",
        "                {\n",
        "                  \"modelo\":\"Honda Civic\",\n",
        "                  \"año\": \"2017\",\n",
        "                  \"km_recorrido\": 220000,\n",
        "                  \"combustible\": 50\n",
        "                }\n",
        "                ]\n",
        "def promedio_recorrido(lista_vehiculos): #\n",
        "  total_km = sum(v[\"km_recorrido\"] for v in lista_vehiculos)\n",
        "  return {\"Promedio km recorridos\": total_km/len(lista_vehiculos)}\n",
        "\n",
        "def vehiculos_bajo_combustible(lista_vehiculos):\n",
        "  return {\"Vehiculos para recarga\": [v[\"modelo\"] for v in lista_vehiculos if v[\"combustible\"] < 30 ]}\n",
        "\n",
        "def vehiculos_para_reemplazo(lista_vehiculos):\n",
        "  reemplazo = [v[\"modelo\"] for v in lista_vehiculos if v[\"km_recorrido\"] > 200000]\n",
        "  return {\"Reemplazo necessario\": reemplazo if reemplazo else \"No hay vehiculos para reemplazar\"}\n",
        "\n",
        "print(promedio_recorrido(vehiculos))\n",
        "print(vehiculos_bajo_combustible(vehiculos))\n",
        "print(vehiculos_para_reemplazo(vehiculos))"
      ]
    }
  ],
  "metadata": {
    "colab": {
      "provenance": []
    },
    "kernelspec": {
      "display_name": "Python 3",
      "name": "python3"
    },
    "language_info": {
      "name": "python"
    }
  },
  "nbformat": 4,
  "nbformat_minor": 0
}
